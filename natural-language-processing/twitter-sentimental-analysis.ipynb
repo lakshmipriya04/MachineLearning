{
 "cells": [
  {
   "cell_type": "markdown",
   "metadata": {},
   "source": [
    "TRIAL with textbob sentiment"
   ]
  },
  {
   "cell_type": "code",
   "execution_count": 1,
   "metadata": {
    "collapsed": true
   },
   "outputs": [],
   "source": [
    "from textblob import TextBlob"
   ]
  },
  {
   "cell_type": "code",
   "execution_count": 6,
   "metadata": {
    "collapsed": true
   },
   "outputs": [],
   "source": [
    "wiki = TextBlob(\"ajay is angry that he never gets good marks in the test\")"
   ]
  },
  {
   "cell_type": "code",
   "execution_count": 7,
   "metadata": {},
   "outputs": [
    {
     "data": {
      "text/plain": [
       "[('ajay', 'NN'),\n",
       " ('is', 'VBZ'),\n",
       " ('angry', 'JJ'),\n",
       " ('that', 'IN'),\n",
       " ('he', 'PRP'),\n",
       " ('never', 'RB'),\n",
       " ('gets', 'VBZ'),\n",
       " ('good', 'JJ'),\n",
       " ('marks', 'NNS'),\n",
       " ('in', 'IN'),\n",
       " ('the', 'DT'),\n",
       " ('test', 'NN')]"
      ]
     },
     "execution_count": 7,
     "metadata": {},
     "output_type": "execute_result"
    }
   ],
   "source": [
    "#access parts of speech\n",
    "wiki.tags"
   ]
  },
  {
   "cell_type": "code",
   "execution_count": 10,
   "metadata": {},
   "outputs": [
    {
     "data": {
      "text/plain": [
       "WordList(['ajay', 'is', 'angry', 'that', 'he', 'never', 'gets', 'good', 'marks', 'in', 'the', 'test'])"
      ]
     },
     "execution_count": 10,
     "metadata": {},
     "output_type": "execute_result"
    }
   ],
   "source": [
    "#tokenize the text\n",
    "wiki.words"
   ]
  },
  {
   "cell_type": "markdown",
   "metadata": {},
   "source": [
    "https://planspace.org/20150607-textblob_sentiment/\n",
    "\n",
    " Each word in the lexicon has scores for:\n",
    " 1)polarity: negative vs. positive         (-1.0 => +1.0)\n",
    " 2)subjectivity: objective vs. subjective  (+0.0 => +1.0)\n",
    " 3)intensity: modifies next word?          (x0.5 => x2.0)\n",
    "\n",
    "objective :factual\n",
    "subjective : opinion"
   ]
  },
  {
   "cell_type": "code",
   "execution_count": 13,
   "metadata": {},
   "outputs": [
    {
     "data": {
      "text/plain": [
       "Sentiment(polarity=0.09999999999999998, subjectivity=0.8)"
      ]
     },
     "execution_count": 13,
     "metadata": {},
     "output_type": "execute_result"
    }
   ],
   "source": [
    "#sentiment polarity scale b/e -1 to 1\n",
    "wiki.sentiment"
   ]
  },
  {
   "cell_type": "code",
   "execution_count": 14,
   "metadata": {},
   "outputs": [
    {
     "data": {
      "text/plain": [
       "Sentiment(polarity=0.75, subjectivity=0.8)"
      ]
     },
     "execution_count": 14,
     "metadata": {},
     "output_type": "execute_result"
    }
   ],
   "source": [
    "wiki1 = TextBlob(\"ajay is happy that he always gets good marks in the test\")\n",
    "wiki1.sentiment"
   ]
  },
  {
   "cell_type": "code",
   "execution_count": 15,
   "metadata": {},
   "outputs": [
    {
     "data": {
      "text/plain": [
       "Sentiment(polarity=0.0, subjectivity=0.0)"
      ]
     },
     "execution_count": 15,
     "metadata": {},
     "output_type": "execute_result"
    }
   ],
   "source": [
    "wiki2 = TextBlob(\"earth rotates\")\n",
    "wiki2.sentiment"
   ]
  },
  {
   "cell_type": "markdown",
   "metadata": {},
   "source": [
    "TWITTER SENTIMENTAL ANALYSIS"
   ]
  },
  {
   "cell_type": "code",
   "execution_count": 25,
   "metadata": {},
   "outputs": [],
   "source": [
    "import tweepy\n",
    "\n",
    "consumer_key = 'c1RrpcocvBF9ZNk56bNAfys1c'\n",
    "consumer_secret = 'LC5yWPbXYfPi025CUXO1XcTmCHmoxlyOrWzHOlLf8TSffap5Z2'\n",
    "access_token = '845957764979474434-QoYqRzqZQapDI2lyHnndLVTJx7tMhnc'\n",
    "access_token_secret = 'cYWJgoyrTE0mW7w7m7W71gEGXNrholQUmZAe64UUnqOp2'"
   ]
  },
  {
   "cell_type": "code",
   "execution_count": 28,
   "metadata": {},
   "outputs": [],
   "source": [
    "#for authentication\n",
    "auth = tweepy.OAuthHandler(consumer_key,consumer_secret)\n",
    "auth.set_access_token(access_token,access_token_secret)"
   ]
  },
  {
   "cell_type": "code",
   "execution_count": 29,
   "metadata": {
    "collapsed": true
   },
   "outputs": [],
   "source": [
    "api = tweepy.API(auth)"
   ]
  },
  {
   "cell_type": "code",
   "execution_count": 30,
   "metadata": {
    "collapsed": true
   },
   "outputs": [],
   "source": [
    "#bunch of tweets that contain word trump\n",
    "public_tweets = api.search('Trump')"
   ]
  },
  {
   "cell_type": "code",
   "execution_count": 33,
   "metadata": {},
   "outputs": [
    {
     "name": "stdout",
     "output_type": "stream",
     "text": [
      "RT @RonanFarrow: Karen McDougal is suing AMI, the parent company of the National Enquirer, for a “multifaceted effort to silence her” after…\n",
      "Sentiment(polarity=0.0, subjectivity=0.0)\n",
      "RT @AC360: \"The President can hire a hundred lawyers, but there's only one version of the truth,\" says Democrat Rep. Eric Swalwell about th…\n",
      "Sentiment(polarity=0.0, subjectivity=1.0)\n",
      "RT @verge: How to use Facebook while giving it the minimum amount of personal data https://t.co/k1knSP0BFt https://t.co/0Azqys8Tpr\n",
      "Sentiment(polarity=0.0, subjectivity=0.3)\n",
      "RT @covfefeartist: Make America Prosperous Again‼️The White House releases a President Trump video along with a message to submit your own…\n",
      "Sentiment(polarity=0.0, subjectivity=0.0)\n",
      "RT @TIKdOffPinsNTh1: @JoshCrayze @VeronicaAddlem1 @hsramkcaj @jdawsey1 @christinawilkie @POTUS If Putin had a fan club, Trump would be its…\n",
      "Sentiment(polarity=0.0, subjectivity=0.0)\n",
      "En amerikansk president kan inte leda den fria världen genom att gratulera diktatorer för att de vinner falska val https://t.co/0yBayKXm9P\n",
      "Sentiment(polarity=0.0, subjectivity=0.0)\n",
      "RT @HuffPost: The Trump administration invested heavily in convincing lawmakers that any change in U.S. policy would damage the American pa…\n",
      "Sentiment(polarity=0.25, subjectivity=0.5)\n",
      "RT @paulkrugman: Mercantilists and goldbugs, oh my. Does Trump even realize that their bad ideas conflict? https://t.co/iLGdvU422p\n",
      "Sentiment(polarity=-0.6999999999999998, subjectivity=0.6666666666666666)\n",
      "RT @ThisWeekABC: Sen. McCain on Pres. Trump congratulating Putin on election win: “An American president does not lead the Free World by co…\n",
      "Sentiment(polarity=0.4000000000000001, subjectivity=0.4000000000000001)\n",
      "RT @RepAdamSchiff: The President calls Putin — not to condemn him for using a nerve agent in Britain or interfering in our election — but t…\n",
      "Sentiment(polarity=0.0, subjectivity=0.0)\n",
      "RT @joncoopertweets: At this point, is there ANY independent observer who does not think Putin has @realDonaldTrump in his back pocket? The…\n",
      "Sentiment(polarity=0.0, subjectivity=0.0625)\n",
      "RT @sxdoc: WINNING! Heather Nauert Appointed as UnderSecretary Of State Department; Trump Loves Women Who Are Smart and Speak Out like Nikk…\n",
      "Sentiment(polarity=0.41964285714285715, subjectivity=0.6964285714285714)\n",
      "RT @saradannerdukic: Remember how Trump kicked off his campaign with disgusting comments about Mexican human beings?  What he said to Megyn…\n",
      "Sentiment(polarity=-0.3333333333333333, subjectivity=0.3666666666666667)\n",
      "The only reason Donald trump wants to sentence drug dealers is so he can gain the racketeering control and deal the… https://t.co/bwGDKYE7Xi\n",
      "Sentiment(polarity=0.1, subjectivity=0.55)\n",
      "Trump wants death penalty for opioid https://t.co/mzOZVgpKNG\n",
      "Sentiment(polarity=0.2, subjectivity=0.1)\n"
     ]
    }
   ],
   "source": [
    "for tweet in public_tweets:\n",
    "    print(tweet.text)\n",
    "    analysis = TextBlob(tweet.text)\n",
    "    print(analysis.sentiment)"
   ]
  },
  {
   "cell_type": "code",
   "execution_count": null,
   "metadata": {
    "collapsed": true
   },
   "outputs": [],
   "source": []
  }
 ],
 "metadata": {
  "kernelspec": {
   "display_name": "Python [default]",
   "language": "python",
   "name": "python3"
  },
  "language_info": {
   "codemirror_mode": {
    "name": "ipython",
    "version": 3
   },
   "file_extension": ".py",
   "mimetype": "text/x-python",
   "name": "python",
   "nbconvert_exporter": "python",
   "pygments_lexer": "ipython3",
   "version": "3.6.3"
  }
 },
 "nbformat": 4,
 "nbformat_minor": 2
}
