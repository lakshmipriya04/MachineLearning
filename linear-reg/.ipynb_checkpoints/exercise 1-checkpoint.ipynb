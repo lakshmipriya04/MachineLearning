{
 "cells": [
  {
   "cell_type": "markdown",
   "metadata": {},
   "source": [
    "1.Load the dataset housing-data.csv"
   ]
  },
  {
   "cell_type": "code",
   "execution_count": 1,
   "metadata": {
    "collapsed": true
   },
   "outputs": [],
   "source": [
    "import pandas as pd\n",
    "import numpy as np"
   ]
  },
  {
   "cell_type": "code",
   "execution_count": 2,
   "metadata": {
    "collapsed": true
   },
   "outputs": [],
   "source": [
    "df = pd.read_csv(\"housing-data.csv\")"
   ]
  },
  {
   "cell_type": "code",
   "execution_count": 3,
   "metadata": {},
   "outputs": [
    {
     "data": {
      "text/html": [
       "<div>\n",
       "<style>\n",
       "    .dataframe thead tr:only-child th {\n",
       "        text-align: right;\n",
       "    }\n",
       "\n",
       "    .dataframe thead th {\n",
       "        text-align: left;\n",
       "    }\n",
       "\n",
       "    .dataframe tbody tr th {\n",
       "        vertical-align: top;\n",
       "    }\n",
       "</style>\n",
       "<table border=\"1\" class=\"dataframe\">\n",
       "  <thead>\n",
       "    <tr style=\"text-align: right;\">\n",
       "      <th></th>\n",
       "      <th>sqft</th>\n",
       "      <th>bdrms</th>\n",
       "      <th>age</th>\n",
       "      <th>price</th>\n",
       "    </tr>\n",
       "  </thead>\n",
       "  <tbody>\n",
       "    <tr>\n",
       "      <th>0</th>\n",
       "      <td>2104</td>\n",
       "      <td>3</td>\n",
       "      <td>70</td>\n",
       "      <td>399900</td>\n",
       "    </tr>\n",
       "    <tr>\n",
       "      <th>1</th>\n",
       "      <td>1600</td>\n",
       "      <td>3</td>\n",
       "      <td>28</td>\n",
       "      <td>329900</td>\n",
       "    </tr>\n",
       "    <tr>\n",
       "      <th>2</th>\n",
       "      <td>2400</td>\n",
       "      <td>3</td>\n",
       "      <td>44</td>\n",
       "      <td>369000</td>\n",
       "    </tr>\n",
       "    <tr>\n",
       "      <th>3</th>\n",
       "      <td>1416</td>\n",
       "      <td>2</td>\n",
       "      <td>49</td>\n",
       "      <td>232000</td>\n",
       "    </tr>\n",
       "    <tr>\n",
       "      <th>4</th>\n",
       "      <td>3000</td>\n",
       "      <td>4</td>\n",
       "      <td>75</td>\n",
       "      <td>539900</td>\n",
       "    </tr>\n",
       "  </tbody>\n",
       "</table>\n",
       "</div>"
      ],
      "text/plain": [
       "   sqft  bdrms  age   price\n",
       "0  2104      3   70  399900\n",
       "1  1600      3   28  329900\n",
       "2  2400      3   44  369000\n",
       "3  1416      2   49  232000\n",
       "4  3000      4   75  539900"
      ]
     },
     "execution_count": 3,
     "metadata": {},
     "output_type": "execute_result"
    }
   ],
   "source": [
    "df.head()"
   ]
  },
  {
   "cell_type": "markdown",
   "metadata": {},
   "source": [
    "2.plot the histograms for each feature"
   ]
  },
  {
   "cell_type": "code",
   "execution_count": 5,
   "metadata": {
    "collapsed": true
   },
   "outputs": [],
   "source": [
    "import matplotlib.pyplot as plt"
   ]
  },
  {
   "cell_type": "code",
   "execution_count": 6,
   "metadata": {},
   "outputs": [],
   "source": [
    "plt.figure(figsize=(15, 5))\n",
    "for i, feature in enumerate(df.columns):\n",
    "    plt.subplot(1, 4, i+1)\n",
    "    df[feature].plot(kind='hist', title=feature)\n",
    "    plt.xlabel(feature)"
   ]
  },
  {
   "cell_type": "code",
   "execution_count": 7,
   "metadata": {},
   "outputs": [
    {
     "data": {
      "image/png": "[encoded data removed]",
      "text/plain": [
       "<matplotlib.figure.Figure at 0x52a2741780>"
      ]
     },
     "metadata": {},
     "output_type": "display_data"
    }
   ],
   "source": [
    "plt.show()"
   ]
  },
  {
   "cell_type": "markdown",
   "metadata": {},
   "source": [
    "3.create 2 variables called X and y: X shall be a matrix with 3 columns (sqft,bdrms,age) and y shall be a vector with 1 column (price)"
   ]
  },
  {
   "cell_type": "code",
   "execution_count": 8,
   "metadata": {
    "collapsed": true
   },
   "outputs": [],
   "source": [
    "X = df[['sqft', 'bdrms', 'age']].values\n",
    "y = df['price'].values"
   ]
  },
  {
   "cell_type": "code",
   "execution_count": 9,
   "metadata": {},
   "outputs": [
    {
     "data": {
      "text/plain": [
       "array([[2104,    3,   70],\n",
       "       [1600,    3,   28],\n",
       "       [2400,    3,   44],\n",
       "       [1416,    2,   49],\n",
       "       [3000,    4,   75],\n",
       "       [1985,    4,   61],\n",
       "       [1534,    3,   12],\n",
       "       [1427,    3,   57],\n",
       "       [1380,    3,   14],\n",
       "       [1494,    3,   15],\n",
       "       [1940,    4,    7],\n",
       "       [2000,    3,   27],\n",
       "       [1890,    3,   45],\n",
       "       [4478,    5,   49],\n",
       "       [1268,    3,   58],\n",
       "       [2300,    4,   77],\n",
       "       [1320,    2,   62],\n",
       "       [1236,    3,   78],\n",
       "       [2609,    4,    5],\n",
       "       [3031,    4,   21],\n",
       "       [1767,    3,   44],\n",
       "       [1888,    2,   79],\n",
       "       [1604,    3,   13],\n",
       "       [1962,    4,   53],\n",
       "       [3890,    3,   36],\n",
       "       [1100,    3,   60],\n",
       "       [1458,    3,   29],\n",
       "       [2526,    3,   13],\n",
       "       [2200,    3,   28],\n",
       "       [2637,    3,   25],\n",
       "       [1839,    2,   40],\n",
       "       [1000,    1,    5],\n",
       "       [2040,    4,   75],\n",
       "       [3137,    3,   67],\n",
       "       [1811,    4,   24],\n",
       "       [1437,    3,   50],\n",
       "       [1239,    3,   22],\n",
       "       [2132,    4,   28],\n",
       "       [4215,    4,   66],\n",
       "       [2162,    4,   43],\n",
       "       [1664,    2,   40],\n",
       "       [2238,    3,   37],\n",
       "       [2567,    4,   57],\n",
       "       [1200,    3,   76],\n",
       "       [ 852,    2,   70],\n",
       "       [1852,    4,   64],\n",
       "       [1203,    3,   11]], dtype=int64)"
      ]
     },
     "execution_count": 9,
     "metadata": {},
     "output_type": "execute_result"
    }
   ],
   "source": [
    "X"
   ]
  },
  {
   "cell_type": "code",
   "execution_count": 10,
   "metadata": {},
   "outputs": [
    {
     "data": {
      "text/plain": [
       "array([399900, 329900, 369000, 232000, 539900, 299900, 314900, 198999,\n",
       "       212000, 242500, 239999, 347000, 329999, 699900, 259900, 449900,\n",
       "       299900, 199900, 499998, 599000, 252900, 255000, 242900, 259900,\n",
       "       573900, 249900, 464500, 469000, 475000, 299900, 349900, 169900,\n",
       "       314900, 579900, 285900, 249900, 229900, 345000, 549000, 287000,\n",
       "       368500, 329900, 314000, 299000, 179900, 299900, 239500], dtype=int64)"
      ]
     },
     "execution_count": 10,
     "metadata": {},
     "output_type": "execute_result"
    }
   ],
   "source": [
    "y"
   ]
  },
  {
   "cell_type": "markdown",
   "metadata": {},
   "source": [
    "4.create a linear regression model in Keras with the appropriate number of inputs and output"
   ]
  },
  {
   "cell_type": "code",
   "execution_count": 11,
   "metadata": {
    "collapsed": true
   },
   "outputs": [],
   "source": [
    "from keras.models import Sequential\n",
    "from keras.layers import Dense\n",
    "from keras.optimizers import Adam"
   ]
  },
  {
   "cell_type": "code",
   "execution_count": 13,
   "metadata": {},
   "outputs": [],
   "source": [
    "model = Sequential()\n",
    "model.add(Dense(1,input_shape = (3,)))\n",
    "model.compile(Adam(lr=0.8),'mean_squared_error')"
   ]
  },
  {
   "cell_type": "markdown",
   "metadata": {},
   "source": [
    "5.split the data into train and test with a 20% test size"
   ]
  },
  {
   "cell_type": "code",
   "execution_count": 15,
   "metadata": {
    "collapsed": true
   },
   "outputs": [],
   "source": [
    "from sklearn.model_selection import train_test_split"
   ]
  },
  {
   "cell_type": "code",
   "execution_count": 16,
   "metadata": {
    "collapsed": true
   },
   "outputs": [],
   "source": [
    "X_train,X_test,y_train,y_test = train_test_split(X,y,test_size=0.2)"
   ]
  },
  {
   "cell_type": "code",
   "execution_count": 20,
   "metadata": {},
   "outputs": [
    {
     "data": {
      "text/plain": [
       "47"
      ]
     },
     "execution_count": 20,
     "metadata": {},
     "output_type": "execute_result"
    }
   ],
   "source": [
    "len(df)"
   ]
  },
  {
   "cell_type": "code",
   "execution_count": 21,
   "metadata": {},
   "outputs": [
    {
     "data": {
      "text/plain": [
       "47"
      ]
     },
     "execution_count": 21,
     "metadata": {},
     "output_type": "execute_result"
    }
   ],
   "source": [
    "len(X)"
   ]
  },
  {
   "cell_type": "code",
   "execution_count": 22,
   "metadata": {},
   "outputs": [
    {
     "data": {
      "text/plain": [
       "47"
      ]
     },
     "execution_count": 22,
     "metadata": {},
     "output_type": "execute_result"
    }
   ],
   "source": [
    "len(y)"
   ]
  },
  {
   "cell_type": "code",
   "execution_count": 23,
   "metadata": {},
   "outputs": [
    {
     "data": {
      "text/plain": [
       "37"
      ]
     },
     "execution_count": 23,
     "metadata": {},
     "output_type": "execute_result"
    }
   ],
   "source": [
    "len(X_train)"
   ]
  },
  {
   "cell_type": "code",
   "execution_count": 24,
   "metadata": {},
   "outputs": [
    {
     "data": {
      "text/plain": [
       "10"
      ]
     },
     "execution_count": 24,
     "metadata": {},
     "output_type": "execute_result"
    }
   ],
   "source": [
    "len(X_test)"
   ]
  },
  {
   "cell_type": "markdown",
   "metadata": {},
   "source": [
    "6.train the model on the training set and check its accuracy on training and test set,\n",
    "how's your model doing? Is the loss growing smaller?"
   ]
  },
  {
   "cell_type": "code",
   "execution_count": 25,
   "metadata": {},
   "outputs": [
    {
     "name": "stdout",
     "output_type": "stream",
     "text": [
      "Epoch 1/1\n",
      "37/37 [==============================] - 1s 22ms/step - loss: 137139125386.3784\n"
     ]
    },
    {
     "data": {
      "text/plain": [
       "<keras.callbacks.History at 0x52a809e908>"
      ]
     },
     "execution_count": 25,
     "metadata": {},
     "output_type": "execute_result"
    }
   ],
   "source": [
    "model.fit(X_train,y_train)"
   ]
  },
  {
   "cell_type": "code",
   "execution_count": 26,
   "metadata": {},
   "outputs": [
    {
     "data": {
      "text/html": [
       "<div>\n",
       "<style>\n",
       "    .dataframe thead tr:only-child th {\n",
       "        text-align: right;\n",
       "    }\n",
       "\n",
       "    .dataframe thead th {\n",
       "        text-align: left;\n",
       "    }\n",
       "\n",
       "    .dataframe tbody tr th {\n",
       "        vertical-align: top;\n",
       "    }\n",
       "</style>\n",
       "<table border=\"1\" class=\"dataframe\">\n",
       "  <thead>\n",
       "    <tr style=\"text-align: right;\">\n",
       "      <th></th>\n",
       "      <th>sqft</th>\n",
       "      <th>bdrms</th>\n",
       "      <th>age</th>\n",
       "      <th>price</th>\n",
       "    </tr>\n",
       "  </thead>\n",
       "  <tbody>\n",
       "    <tr>\n",
       "      <th>count</th>\n",
       "      <td>47.000000</td>\n",
       "      <td>47.000000</td>\n",
       "      <td>47.000000</td>\n",
       "      <td>47.000000</td>\n",
       "    </tr>\n",
       "    <tr>\n",
       "      <th>mean</th>\n",
       "      <td>2000.680851</td>\n",
       "      <td>3.170213</td>\n",
       "      <td>42.744681</td>\n",
       "      <td>340412.659574</td>\n",
       "    </tr>\n",
       "    <tr>\n",
       "      <th>std</th>\n",
       "      <td>794.702354</td>\n",
       "      <td>0.760982</td>\n",
       "      <td>22.873440</td>\n",
       "      <td>125039.899586</td>\n",
       "    </tr>\n",
       "    <tr>\n",
       "      <th>min</th>\n",
       "      <td>852.000000</td>\n",
       "      <td>1.000000</td>\n",
       "      <td>5.000000</td>\n",
       "      <td>169900.000000</td>\n",
       "    </tr>\n",
       "    <tr>\n",
       "      <th>25%</th>\n",
       "      <td>1432.000000</td>\n",
       "      <td>3.000000</td>\n",
       "      <td>24.500000</td>\n",
       "      <td>249900.000000</td>\n",
       "    </tr>\n",
       "    <tr>\n",
       "      <th>50%</th>\n",
       "      <td>1888.000000</td>\n",
       "      <td>3.000000</td>\n",
       "      <td>44.000000</td>\n",
       "      <td>299900.000000</td>\n",
       "    </tr>\n",
       "    <tr>\n",
       "      <th>75%</th>\n",
       "      <td>2269.000000</td>\n",
       "      <td>4.000000</td>\n",
       "      <td>61.500000</td>\n",
       "      <td>384450.000000</td>\n",
       "    </tr>\n",
       "    <tr>\n",
       "      <th>max</th>\n",
       "      <td>4478.000000</td>\n",
       "      <td>5.000000</td>\n",
       "      <td>79.000000</td>\n",
       "      <td>699900.000000</td>\n",
       "    </tr>\n",
       "  </tbody>\n",
       "</table>\n",
       "</div>"
      ],
      "text/plain": [
       "              sqft      bdrms        age          price\n",
       "count    47.000000  47.000000  47.000000      47.000000\n",
       "mean   2000.680851   3.170213  42.744681  340412.659574\n",
       "std     794.702354   0.760982  22.873440  125039.899586\n",
       "min     852.000000   1.000000   5.000000  169900.000000\n",
       "25%    1432.000000   3.000000  24.500000  249900.000000\n",
       "50%    1888.000000   3.000000  44.000000  299900.000000\n",
       "75%    2269.000000   4.000000  61.500000  384450.000000\n",
       "max    4478.000000   5.000000  79.000000  699900.000000"
      ]
     },
     "execution_count": 26,
     "metadata": {},
     "output_type": "execute_result"
    }
   ],
   "source": [
    "df.describe()"
   ]
  },
  {
   "cell_type": "code",
   "execution_count": 27,
   "metadata": {
    "collapsed": true
   },
   "outputs": [],
   "source": [
    "from sklearn.metrics import r2_score"
   ]
  },
  {
   "cell_type": "code",
   "execution_count": 29,
   "metadata": {},
   "outputs": [
    {
     "name": "stdout",
     "output_type": "stream",
     "text": [
      "The R2 score on the Train set is:\t-7.641\n",
      "The R2 score on the Test set is:\t-7.305\n"
     ]
    }
   ],
   "source": [
    "#checking r2 score which is very bad\n",
    "y_train_pred = model.predict(X_train)\n",
    "y_test_pred = model.predict(X_test)\n",
    "\n",
    "print(\"The R2 score on the Train set is:\\t{:0.3f}\".format(r2_score(y_train, y_train_pred)))\n",
    "print(\"The R2 score on the Test set is:\\t{:0.3f}\".format(r2_score(y_test, y_test_pred)))"
   ]
  },
  {
   "cell_type": "markdown",
   "metadata": {},
   "source": [
    "7.try to improve your model with these experiments:\n",
    "\n",
    "    normalize the input features with one of the rescaling techniques mentioned above\n",
    "    use a different value for the learning rate of your model\n",
    "    use a different optimizer\n"
   ]
  },
  {
   "cell_type": "code",
   "execution_count": 30,
   "metadata": {
    "collapsed": true
   },
   "outputs": [],
   "source": [
    "df['sqft1000'] = df['sqft']/1000.0\n",
    "df['age10'] = df['age']/10.0\n",
    "df['price100k'] = df['price']/1e5"
   ]
  },
  {
   "cell_type": "code",
   "execution_count": 32,
   "metadata": {},
   "outputs": [],
   "source": [
    "X = df[['sqft1000', 'bdrms', 'age10']].values\n",
    "y = df['price100k'].values"
   ]
  },
  {
   "cell_type": "code",
   "execution_count": 33,
   "metadata": {},
   "outputs": [
    {
     "data": {
      "text/html": [
       "<div>\n",
       "<style>\n",
       "    .dataframe thead tr:only-child th {\n",
       "        text-align: right;\n",
       "    }\n",
       "\n",
       "    .dataframe thead th {\n",
       "        text-align: left;\n",
       "    }\n",
       "\n",
       "    .dataframe tbody tr th {\n",
       "        vertical-align: top;\n",
       "    }\n",
       "</style>\n",
       "<table border=\"1\" class=\"dataframe\">\n",
       "  <thead>\n",
       "    <tr style=\"text-align: right;\">\n",
       "      <th></th>\n",
       "      <th>sqft</th>\n",
       "      <th>bdrms</th>\n",
       "      <th>age</th>\n",
       "      <th>price</th>\n",
       "      <th>sqft1000</th>\n",
       "      <th>age10</th>\n",
       "      <th>price100k</th>\n",
       "    </tr>\n",
       "  </thead>\n",
       "  <tbody>\n",
       "    <tr>\n",
       "      <th>0</th>\n",
       "      <td>2104</td>\n",
       "      <td>3</td>\n",
       "      <td>70</td>\n",
       "      <td>399900</td>\n",
       "      <td>2.104</td>\n",
       "      <td>7.0</td>\n",
       "      <td>3.999</td>\n",
       "    </tr>\n",
       "    <tr>\n",
       "      <th>1</th>\n",
       "      <td>1600</td>\n",
       "      <td>3</td>\n",
       "      <td>28</td>\n",
       "      <td>329900</td>\n",
       "      <td>1.600</td>\n",
       "      <td>2.8</td>\n",
       "      <td>3.299</td>\n",
       "    </tr>\n",
       "    <tr>\n",
       "      <th>2</th>\n",
       "      <td>2400</td>\n",
       "      <td>3</td>\n",
       "      <td>44</td>\n",
       "      <td>369000</td>\n",
       "      <td>2.400</td>\n",
       "      <td>4.4</td>\n",
       "      <td>3.690</td>\n",
       "    </tr>\n",
       "    <tr>\n",
       "      <th>3</th>\n",
       "      <td>1416</td>\n",
       "      <td>2</td>\n",
       "      <td>49</td>\n",
       "      <td>232000</td>\n",
       "      <td>1.416</td>\n",
       "      <td>4.9</td>\n",
       "      <td>2.320</td>\n",
       "    </tr>\n",
       "    <tr>\n",
       "      <th>4</th>\n",
       "      <td>3000</td>\n",
       "      <td>4</td>\n",
       "      <td>75</td>\n",
       "      <td>539900</td>\n",
       "      <td>3.000</td>\n",
       "      <td>7.5</td>\n",
       "      <td>5.399</td>\n",
       "    </tr>\n",
       "  </tbody>\n",
       "</table>\n",
       "</div>"
      ],
      "text/plain": [
       "   sqft  bdrms  age   price  sqft1000  age10  price100k\n",
       "0  2104      3   70  399900     2.104    7.0      3.999\n",
       "1  1600      3   28  329900     1.600    2.8      3.299\n",
       "2  2400      3   44  369000     2.400    4.4      3.690\n",
       "3  1416      2   49  232000     1.416    4.9      2.320\n",
       "4  3000      4   75  539900     3.000    7.5      5.399"
      ]
     },
     "execution_count": 33,
     "metadata": {},
     "output_type": "execute_result"
    }
   ],
   "source": [
    "df.head()"
   ]
  },
  {
   "cell_type": "code",
   "execution_count": 34,
   "metadata": {},
   "outputs": [
    {
     "data": {
      "text/plain": [
       "array([[ 2.104,  3.   ,  7.   ],\n",
       "       [ 1.6  ,  3.   ,  2.8  ],\n",
       "       [ 2.4  ,  3.   ,  4.4  ],\n",
       "       [ 1.416,  2.   ,  4.9  ],\n",
       "       [ 3.   ,  4.   ,  7.5  ],\n",
       "       [ 1.985,  4.   ,  6.1  ],\n",
       "       [ 1.534,  3.   ,  1.2  ],\n",
       "       [ 1.427,  3.   ,  5.7  ],\n",
       "       [ 1.38 ,  3.   ,  1.4  ],\n",
       "       [ 1.494,  3.   ,  1.5  ],\n",
       "       [ 1.94 ,  4.   ,  0.7  ],\n",
       "       [ 2.   ,  3.   ,  2.7  ],\n",
       "       [ 1.89 ,  3.   ,  4.5  ],\n",
       "       [ 4.478,  5.   ,  4.9  ],\n",
       "       [ 1.268,  3.   ,  5.8  ],\n",
       "       [ 2.3  ,  4.   ,  7.7  ],\n",
       "       [ 1.32 ,  2.   ,  6.2  ],\n",
       "       [ 1.236,  3.   ,  7.8  ],\n",
       "       [ 2.609,  4.   ,  0.5  ],\n",
       "       [ 3.031,  4.   ,  2.1  ],\n",
       "       [ 1.767,  3.   ,  4.4  ],\n",
       "       [ 1.888,  2.   ,  7.9  ],\n",
       "       [ 1.604,  3.   ,  1.3  ],\n",
       "       [ 1.962,  4.   ,  5.3  ],\n",
       "       [ 3.89 ,  3.   ,  3.6  ],\n",
       "       [ 1.1  ,  3.   ,  6.   ],\n",
       "       [ 1.458,  3.   ,  2.9  ],\n",
       "       [ 2.526,  3.   ,  1.3  ],\n",
       "       [ 2.2  ,  3.   ,  2.8  ],\n",
       "       [ 2.637,  3.   ,  2.5  ],\n",
       "       [ 1.839,  2.   ,  4.   ],\n",
       "       [ 1.   ,  1.   ,  0.5  ],\n",
       "       [ 2.04 ,  4.   ,  7.5  ],\n",
       "       [ 3.137,  3.   ,  6.7  ],\n",
       "       [ 1.811,  4.   ,  2.4  ],\n",
       "       [ 1.437,  3.   ,  5.   ],\n",
       "       [ 1.239,  3.   ,  2.2  ],\n",
       "       [ 2.132,  4.   ,  2.8  ],\n",
       "       [ 4.215,  4.   ,  6.6  ],\n",
       "       [ 2.162,  4.   ,  4.3  ],\n",
       "       [ 1.664,  2.   ,  4.   ],\n",
       "       [ 2.238,  3.   ,  3.7  ],\n",
       "       [ 2.567,  4.   ,  5.7  ],\n",
       "       [ 1.2  ,  3.   ,  7.6  ],\n",
       "       [ 0.852,  2.   ,  7.   ],\n",
       "       [ 1.852,  4.   ,  6.4  ],\n",
       "       [ 1.203,  3.   ,  1.1  ]])"
      ]
     },
     "execution_count": 34,
     "metadata": {},
     "output_type": "execute_result"
    }
   ],
   "source": [
    "X"
   ]
  },
  {
   "cell_type": "code",
   "execution_count": 35,
   "metadata": {},
   "outputs": [
    {
     "data": {
      "text/plain": [
       "array([ 3.999  ,  3.299  ,  3.69   ,  2.32   ,  5.399  ,  2.999  ,\n",
       "        3.149  ,  1.98999,  2.12   ,  2.425  ,  2.39999,  3.47   ,\n",
       "        3.29999,  6.999  ,  2.599  ,  4.499  ,  2.999  ,  1.999  ,\n",
       "        4.99998,  5.99   ,  2.529  ,  2.55   ,  2.429  ,  2.599  ,\n",
       "        5.739  ,  2.499  ,  4.645  ,  4.69   ,  4.75   ,  2.999  ,\n",
       "        3.499  ,  1.699  ,  3.149  ,  5.799  ,  2.859  ,  2.499  ,\n",
       "        2.299  ,  3.45   ,  5.49   ,  2.87   ,  3.685  ,  3.299  ,\n",
       "        3.14   ,  2.99   ,  1.799  ,  2.999  ,  2.395  ])"
      ]
     },
     "execution_count": 35,
     "metadata": {},
     "output_type": "execute_result"
    }
   ],
   "source": [
    "y"
   ]
  },
  {
   "cell_type": "code",
   "execution_count": 36,
   "metadata": {
    "collapsed": true
   },
   "outputs": [],
   "source": [
    "X_train, X_test, y_train, y_test = train_test_split(X, y, test_size=0.2)"
   ]
  },
  {
   "cell_type": "code",
   "execution_count": 37,
   "metadata": {},
   "outputs": [
    {
     "name": "stdout",
     "output_type": "stream",
     "text": [
      "Epoch 1/20\n",
      "37/37 [==============================] - 1s 17ms/step - loss: 6.9193\n",
      "Epoch 2/20\n",
      "37/37 [==============================] - 0s 379us/step - loss: 6.3504\n",
      "Epoch 3/20\n",
      "37/37 [==============================] - 0s 379us/step - loss: 6.0647\n",
      "Epoch 4/20\n",
      "37/37 [==============================] - 0s 433us/step - loss: 5.0133\n",
      "Epoch 5/20\n",
      "37/37 [==============================] - 0s 405us/step - loss: 3.6125\n",
      "Epoch 6/20\n",
      "37/37 [==============================] - 0s 406us/step - loss: 2.8505\n",
      "Epoch 7/20\n",
      "37/37 [==============================] - 0s 460us/step - loss: 2.5035\n",
      "Epoch 8/20\n",
      "37/37 [==============================] - 0s 379us/step - loss: 2.2742\n",
      "Epoch 9/20\n",
      "37/37 [==============================] - 0s 379us/step - loss: 1.8239\n",
      "Epoch 10/20\n",
      "37/37 [==============================] - 0s 487us/step - loss: 1.4058\n",
      "Epoch 11/20\n",
      "37/37 [==============================] - 0s 379us/step - loss: 1.4223\n",
      "Epoch 12/20\n",
      "37/37 [==============================] - 0s 433us/step - loss: 1.4478\n",
      "Epoch 13/20\n",
      "37/37 [==============================] - 0s 487us/step - loss: 1.1875\n",
      "Epoch 14/20\n",
      "37/37 [==============================] - 0s 460us/step - loss: 1.0848\n",
      "Epoch 15/20\n",
      "37/37 [==============================] - 0s 379us/step - loss: 1.2035\n",
      "Epoch 16/20\n",
      "37/37 [==============================] - 0s 379us/step - loss: 1.2157\n",
      "Epoch 17/20\n",
      "37/37 [==============================] - 0s 514us/step - loss: 1.0799\n",
      "Epoch 18/20\n",
      "37/37 [==============================] - 0s 406us/step - loss: 0.9625\n",
      "Epoch 19/20\n",
      "37/37 [==============================] - 0s 541us/step - loss: 1.0661\n",
      "Epoch 20/20\n",
      "37/37 [==============================] - ETA: 0s - loss: 1.006 - 0s 433us/step - loss: 1.2006\n"
     ]
    },
    {
     "data": {
      "text/plain": [
       "<keras.callbacks.History at 0x52a961ccc0>"
      ]
     },
     "execution_count": 37,
     "metadata": {},
     "output_type": "execute_result"
    }
   ],
   "source": [
    "model = Sequential()\n",
    "model.add(Dense(1, input_dim=3))\n",
    "model.compile(Adam(lr=0.1), 'mean_squared_error')\n",
    "model.fit(X_train, y_train, epochs=20)"
   ]
  },
  {
   "cell_type": "markdown",
   "metadata": {},
   "source": [
    "8.once you're satisfied with training, check the R2score on the test set"
   ]
  },
  {
   "cell_type": "code",
   "execution_count": 38,
   "metadata": {},
   "outputs": [
    {
     "name": "stdout",
     "output_type": "stream",
     "text": [
      "The R2 score on the Train set is:\t0.100\n",
      "The R2 score on the Test set is:\t0.747\n"
     ]
    }
   ],
   "source": [
    "y_train_pred = model.predict(X_train)\n",
    "y_test_pred = model.predict(X_test)\n",
    "\n",
    "print(\"The R2 score on the Train set is:\\t{:0.3f}\".format(r2_score(y_train, y_train_pred)))\n",
    "print(\"The R2 score on the Test set is:\\t{:0.3f}\".format(r2_score(y_test, y_test_pred)))"
   ]
  },
  {
   "cell_type": "code",
   "execution_count": 47,
   "metadata": {},
   "outputs": [
    {
     "name": "stdout",
     "output_type": "stream",
     "text": [
      "Epoch 1/40\n",
      "37/37 [==============================] - 0s 460us/step - loss: 0.4621\n",
      "Epoch 2/40\n",
      "37/37 [==============================] - 0s 379us/step - loss: 0.4658\n",
      "Epoch 3/40\n",
      "37/37 [==============================] - 0s 351us/step - loss: 0.3782\n",
      "Epoch 4/40\n",
      "37/37 [==============================] - 0s 379us/step - loss: 0.4341\n",
      "Epoch 5/40\n",
      "37/37 [==============================] - 0s 406us/step - loss: 0.4276\n",
      "Epoch 6/40\n",
      "37/37 [==============================] - 0s 406us/step - loss: 0.3613\n",
      "Epoch 7/40\n",
      "37/37 [==============================] - 0s 379us/step - loss: 0.5179\n",
      "Epoch 8/40\n",
      "37/37 [==============================] - 0s 487us/step - loss: 0.5103\n",
      "Epoch 9/40\n",
      "37/37 [==============================] - 0s 514us/step - loss: 0.3952\n",
      "Epoch 10/40\n",
      "37/37 [==============================] - 0s 433us/step - loss: 0.4299\n",
      "Epoch 11/40\n",
      "37/37 [==============================] - 0s 460us/step - loss: 0.3727\n",
      "Epoch 12/40\n",
      "37/37 [==============================] - 0s 433us/step - loss: 0.3880\n",
      "Epoch 13/40\n",
      "37/37 [==============================] - 0s 622us/step - loss: 0.3737\n",
      "Epoch 14/40\n",
      "37/37 [==============================] - 0s 541us/step - loss: 0.3823\n",
      "Epoch 15/40\n",
      "37/37 [==============================] - 0s 460us/step - loss: 0.4404\n",
      "Epoch 16/40\n",
      "37/37 [==============================] - 0s 541us/step - loss: 0.4187\n",
      "Epoch 17/40\n",
      "37/37 [==============================] - 0s 433us/step - loss: 0.3739\n",
      "Epoch 18/40\n",
      "37/37 [==============================] - 0s 352us/step - loss: 0.4135\n",
      "Epoch 19/40\n",
      "37/37 [==============================] - 0s 352us/step - loss: 0.4081\n",
      "Epoch 20/40\n",
      "37/37 [==============================] - 0s 433us/step - loss: 0.3668\n",
      "Epoch 21/40\n",
      "37/37 [==============================] - 0s 514us/step - loss: 0.3681\n",
      "Epoch 22/40\n",
      "37/37 [==============================] - 0s 541us/step - loss: 0.4511\n",
      "Epoch 23/40\n",
      "37/37 [==============================] - 0s 433us/step - loss: 0.4409\n",
      "Epoch 24/40\n",
      "37/37 [==============================] - 0s 649us/step - loss: 0.3843\n",
      "Epoch 25/40\n",
      "37/37 [==============================] - 0s 379us/step - loss: 0.5031\n",
      "Epoch 26/40\n",
      "37/37 [==============================] - 0s 379us/step - loss: 0.4264\n",
      "Epoch 27/40\n",
      "37/37 [==============================] - 0s 433us/step - loss: 0.4294\n",
      "Epoch 28/40\n",
      "37/37 [==============================] - 0s 433us/step - loss: 0.4021\n",
      "Epoch 29/40\n",
      "37/37 [==============================] - 0s 352us/step - loss: 0.4344\n",
      "Epoch 30/40\n",
      "37/37 [==============================] - 0s 379us/step - loss: 0.4257\n",
      "Epoch 31/40\n",
      "37/37 [==============================] - 0s 514us/step - loss: 0.3789\n",
      "Epoch 32/40\n",
      "37/37 [==============================] - 0s 649us/step - loss: 0.4176\n",
      "Epoch 33/40\n",
      "37/37 [==============================] - 0s 460us/step - loss: 0.3566\n",
      "Epoch 34/40\n",
      "37/37 [==============================] - 0s 433us/step - loss: 0.5943\n",
      "Epoch 35/40\n",
      "37/37 [==============================] - 0s 379us/step - loss: 0.5237\n",
      "Epoch 36/40\n",
      "37/37 [==============================] - 0s 433us/step - loss: 0.3798\n",
      "Epoch 37/40\n",
      "37/37 [==============================] - 0s 406us/step - loss: 0.5119\n",
      "Epoch 38/40\n",
      "37/37 [==============================] - 0s 379us/step - loss: 0.4681\n",
      "Epoch 39/40\n",
      "37/37 [==============================] - 0s 379us/step - loss: 0.3830\n",
      "Epoch 40/40\n",
      "37/37 [==============================] - 0s 352us/step - loss: 0.3685\n"
     ]
    },
    {
     "data": {
      "text/plain": [
       "<keras.callbacks.History at 0x52a79da198>"
      ]
     },
     "execution_count": 47,
     "metadata": {},
     "output_type": "execute_result"
    }
   ],
   "source": [
    "model.fit(X_train, y_train, epochs=40)"
   ]
  },
  {
   "cell_type": "code",
   "execution_count": 48,
   "metadata": {},
   "outputs": [
    {
     "name": "stdout",
     "output_type": "stream",
     "text": [
      "The R2 score on the Train set is:\t0.673\n",
      "The R2 score on the Test set is:\t0.754\n"
     ]
    }
   ],
   "source": [
    "y_train_pred = model.predict(X_train)\n",
    "y_test_pred = model.predict(X_test)\n",
    "\n",
    "print(\"The R2 score on the Train set is:\\t{:0.3f}\".format(r2_score(y_train, y_train_pred)))\n",
    "print(\"The R2 score on the Test set is:\\t{:0.3f}\".format(r2_score(y_test, y_test_pred)))"
   ]
  },
  {
   "cell_type": "code",
   "execution_count": null,
   "metadata": {
    "collapsed": true
   },
   "outputs": [],
   "source": []
  }
 ],
 "metadata": {
  "kernelspec": {
   "display_name": "Python [default]",
   "language": "python",
   "name": "python3"
  },
  "language_info": {
   "codemirror_mode": {
    "name": "ipython",
    "version": 3
   },
   "file_extension": ".py",
   "mimetype": "text/x-python",
   "name": "python",
   "nbconvert_exporter": "python",
   "pygments_lexer": "ipython3",
   "version": "3.6.3"
  }
 },
 "nbformat": 4,
 "nbformat_minor": 2
}
