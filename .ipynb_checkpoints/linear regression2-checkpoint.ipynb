{
 "cells": [
  {
   "cell_type": "markdown",
   "metadata": {
    "collapsed": true
   },
   "source": [
    "LINEAR REGRESSION"
   ]
  },
  {
   "cell_type": "code",
   "execution_count": 14,
   "metadata": {
    "collapsed": true
   },
   "outputs": [],
   "source": [
    "%matplotlib inline\n",
    "import matplotlib.pyplot as plt\n",
    "import pandas as pd\n",
    "import numpy as np"
   ]
  },
  {
   "cell_type": "code",
   "execution_count": 15,
   "metadata": {
    "collapsed": true
   },
   "outputs": [],
   "source": [
    "df = pd.read_csv('weight-height.csv')"
   ]
  },
  {
   "cell_type": "code",
   "execution_count": 16,
   "metadata": {},
   "outputs": [
    {
     "data": {
      "text/html": [
       "<div>\n",
       "<style>\n",
       "    .dataframe thead tr:only-child th {\n",
       "        text-align: right;\n",
       "    }\n",
       "\n",
       "    .dataframe thead th {\n",
       "        text-align: left;\n",
       "    }\n",
       "\n",
       "    .dataframe tbody tr th {\n",
       "        vertical-align: top;\n",
       "    }\n",
       "</style>\n",
       "<table border=\"1\" class=\"dataframe\">\n",
       "  <thead>\n",
       "    <tr style=\"text-align: right;\">\n",
       "      <th></th>\n",
       "      <th>Gender</th>\n",
       "      <th>Height</th>\n",
       "      <th>Weight</th>\n",
       "    </tr>\n",
       "  </thead>\n",
       "  <tbody>\n",
       "    <tr>\n",
       "      <th>0</th>\n",
       "      <td>Male</td>\n",
       "      <td>73.847017</td>\n",
       "      <td>241.893563</td>\n",
       "    </tr>\n",
       "    <tr>\n",
       "      <th>1</th>\n",
       "      <td>Male</td>\n",
       "      <td>68.781904</td>\n",
       "      <td>162.310473</td>\n",
       "    </tr>\n",
       "    <tr>\n",
       "      <th>2</th>\n",
       "      <td>Male</td>\n",
       "      <td>74.110105</td>\n",
       "      <td>212.740856</td>\n",
       "    </tr>\n",
       "    <tr>\n",
       "      <th>3</th>\n",
       "      <td>Male</td>\n",
       "      <td>71.730978</td>\n",
       "      <td>220.042470</td>\n",
       "    </tr>\n",
       "    <tr>\n",
       "      <th>4</th>\n",
       "      <td>Male</td>\n",
       "      <td>69.881796</td>\n",
       "      <td>206.349801</td>\n",
       "    </tr>\n",
       "  </tbody>\n",
       "</table>\n",
       "</div>"
      ],
      "text/plain": [
       "  Gender     Height      Weight\n",
       "0   Male  73.847017  241.893563\n",
       "1   Male  68.781904  162.310473\n",
       "2   Male  74.110105  212.740856\n",
       "3   Male  71.730978  220.042470\n",
       "4   Male  69.881796  206.349801"
      ]
     },
     "execution_count": 16,
     "metadata": {},
     "output_type": "execute_result"
    }
   ],
   "source": [
    "df.head()"
   ]
  },
  {
   "cell_type": "code",
   "execution_count": 17,
   "metadata": {},
   "outputs": [
    {
     "data": {
      "text/plain": [
       "[<matplotlib.lines.Line2D at 0xdf5e05b2b0>]"
      ]
     },
     "execution_count": 17,
     "metadata": {},
     "output_type": "execute_result"
    },
    {
     "data": {
      "image/png": "[encoded data removed]",
      "text/plain": [
       "<matplotlib.figure.Figure at 0xdf5a134588>"
      ]
     },
     "metadata": {},
     "output_type": "display_data"
    }
   ],
   "source": [
    "df.plot(kind='scatter', x='Height', y='Weight',title ='Weight and Height in adults')\n",
    "#plotting red line ourselves with values\n",
    "plt.plot([55,78],[75,250],color='red',linewidth= 3)"
   ]
  },
  {
   "cell_type": "code",
   "execution_count": 18,
   "metadata": {
    "collapsed": true
   },
   "outputs": [],
   "source": [
    "def line(x,w=0,b=0):\n",
    "    return x*w+b\n"
   ]
  },
  {
   "cell_type": "code",
   "execution_count": 19,
   "metadata": {
    "collapsed": true
   },
   "outputs": [],
   "source": [
    "x=np.linspace(55,80,100)\n"
   ]
  },
  {
   "cell_type": "code",
   "execution_count": 20,
   "metadata": {},
   "outputs": [
    {
     "data": {
      "text/plain": [
       "array([ 55.        ,  55.25252525,  55.50505051,  55.75757576,\n",
       "        56.01010101,  56.26262626,  56.51515152,  56.76767677,\n",
       "        57.02020202,  57.27272727,  57.52525253,  57.77777778,\n",
       "        58.03030303,  58.28282828,  58.53535354,  58.78787879,\n",
       "        59.04040404,  59.29292929,  59.54545455,  59.7979798 ,\n",
       "        60.05050505,  60.3030303 ,  60.55555556,  60.80808081,\n",
       "        61.06060606,  61.31313131,  61.56565657,  61.81818182,\n",
       "        62.07070707,  62.32323232,  62.57575758,  62.82828283,\n",
       "        63.08080808,  63.33333333,  63.58585859,  63.83838384,\n",
       "        64.09090909,  64.34343434,  64.5959596 ,  64.84848485,\n",
       "        65.1010101 ,  65.35353535,  65.60606061,  65.85858586,\n",
       "        66.11111111,  66.36363636,  66.61616162,  66.86868687,\n",
       "        67.12121212,  67.37373737,  67.62626263,  67.87878788,\n",
       "        68.13131313,  68.38383838,  68.63636364,  68.88888889,\n",
       "        69.14141414,  69.39393939,  69.64646465,  69.8989899 ,\n",
       "        70.15151515,  70.4040404 ,  70.65656566,  70.90909091,\n",
       "        71.16161616,  71.41414141,  71.66666667,  71.91919192,\n",
       "        72.17171717,  72.42424242,  72.67676768,  72.92929293,\n",
       "        73.18181818,  73.43434343,  73.68686869,  73.93939394,\n",
       "        74.19191919,  74.44444444,  74.6969697 ,  74.94949495,\n",
       "        75.2020202 ,  75.45454545,  75.70707071,  75.95959596,\n",
       "        76.21212121,  76.46464646,  76.71717172,  76.96969697,\n",
       "        77.22222222,  77.47474747,  77.72727273,  77.97979798,\n",
       "        78.23232323,  78.48484848,  78.73737374,  78.98989899,\n",
       "        79.24242424,  79.49494949,  79.74747475,  80.        ])"
      ]
     },
     "execution_count": 20,
     "metadata": {},
     "output_type": "execute_result"
    }
   ],
   "source": [
    "x"
   ]
  },
  {
   "cell_type": "code",
   "execution_count": 21,
   "metadata": {
    "collapsed": true
   },
   "outputs": [],
   "source": [
    "yhat = line(x,w=0,b=0)"
   ]
  },
  {
   "cell_type": "code",
   "execution_count": 22,
   "metadata": {},
   "outputs": [
    {
     "data": {
      "text/plain": [
       "array([ 0.,  0.,  0.,  0.,  0.,  0.,  0.,  0.,  0.,  0.,  0.,  0.,  0.,\n",
       "        0.,  0.,  0.,  0.,  0.,  0.,  0.,  0.,  0.,  0.,  0.,  0.,  0.,\n",
       "        0.,  0.,  0.,  0.,  0.,  0.,  0.,  0.,  0.,  0.,  0.,  0.,  0.,\n",
       "        0.,  0.,  0.,  0.,  0.,  0.,  0.,  0.,  0.,  0.,  0.,  0.,  0.,\n",
       "        0.,  0.,  0.,  0.,  0.,  0.,  0.,  0.,  0.,  0.,  0.,  0.,  0.,\n",
       "        0.,  0.,  0.,  0.,  0.,  0.,  0.,  0.,  0.,  0.,  0.,  0.,  0.,\n",
       "        0.,  0.,  0.,  0.,  0.,  0.,  0.,  0.,  0.,  0.,  0.,  0.,  0.,\n",
       "        0.,  0.,  0.,  0.,  0.,  0.,  0.,  0.,  0.])"
      ]
     },
     "execution_count": 22,
     "metadata": {},
     "output_type": "execute_result"
    }
   ],
   "source": [
    "yhat"
   ]
  },
  {
   "cell_type": "code",
   "execution_count": 23,
   "metadata": {},
   "outputs": [
    {
     "data": {
      "text/plain": [
       "array([ 1.,  1.,  1.,  1.,  1.,  1.,  1.,  1.,  1.,  1.,  1.,  1.,  1.,\n",
       "        1.,  1.,  1.,  1.,  1.,  1.,  1.,  1.,  1.,  1.,  1.,  1.,  1.,\n",
       "        1.,  1.,  1.,  1.,  1.,  1.,  1.,  1.,  1.,  1.,  1.,  1.,  1.,\n",
       "        1.,  1.,  1.,  1.,  1.,  1.,  1.,  1.,  1.,  1.,  1.,  1.,  1.,\n",
       "        1.,  1.,  1.,  1.,  1.,  1.,  1.,  1.,  1.,  1.,  1.,  1.,  1.,\n",
       "        1.,  1.,  1.,  1.,  1.,  1.,  1.,  1.,  1.,  1.,  1.,  1.,  1.,\n",
       "        1.,  1.,  1.,  1.,  1.,  1.,  1.,  1.,  1.,  1.,  1.,  1.,  1.,\n",
       "        1.,  1.,  1.,  1.,  1.,  1.,  1.,  1.,  1.])"
      ]
     },
     "execution_count": 23,
     "metadata": {},
     "output_type": "execute_result"
    }
   ],
   "source": [
    "yhat = line(x,w=0,b=1)\n",
    "yhat"
   ]
  },
  {
   "cell_type": "code",
   "execution_count": 24,
   "metadata": {},
   "outputs": [
    {
     "data": {
      "text/plain": [
       "[<matplotlib.lines.Line2D at 0xdf5cc9af98>]"
      ]
     },
     "execution_count": 24,
     "metadata": {},
     "output_type": "execute_result"
    },
    {
     "data": {
      "image/png": "[encoded data removed]",
      "text/plain": [
       "<matplotlib.figure.Figure at 0xdf5d0349b0>"
      ]
     },
     "metadata": {},
     "output_type": "display_data"
    }
   ],
   "source": [
    "df.plot(kind='scatter', x='Height', y='Weight',title ='Weight and Height in adults')\n",
    "#plotting red line ourselves with values\n",
    "plt.plot(x,yhat,color='red',linewidth= 3)"
   ]
  },
  {
   "cell_type": "markdown",
   "metadata": {},
   "source": [
    "COST FUNCTION"
   ]
  },
  {
   "cell_type": "code",
   "execution_count": 25,
   "metadata": {
    "collapsed": true
   },
   "outputs": [],
   "source": [
    "def mean_squared_error(y_true, y_pred):\n",
    "    s=(y_true - y_pred)**2\n",
    "    return s.mean()"
   ]
  },
  {
   "cell_type": "code",
   "execution_count": 26,
   "metadata": {},
   "outputs": [
    {
     "data": {
      "text/plain": [
       "array([[ 73.84701702],\n",
       "       [ 68.78190405],\n",
       "       [ 74.11010539],\n",
       "       ..., \n",
       "       [ 63.86799221],\n",
       "       [ 69.03424313],\n",
       "       [ 61.94424588]])"
      ]
     },
     "execution_count": 26,
     "metadata": {},
     "output_type": "execute_result"
    }
   ],
   "source": [
    "X = df[['Height']].values\n",
    "y_true = df['Weight'].values\n",
    "\n",
    "X"
   ]
  },
  {
   "cell_type": "code",
   "execution_count": 27,
   "metadata": {},
   "outputs": [
    {
     "data": {
      "text/plain": [
       "array([ 241.89356318,  162.31047252,  212.74085556, ...,  128.47531878,\n",
       "        163.85246135,  113.64910268])"
      ]
     },
     "execution_count": 27,
     "metadata": {},
     "output_type": "execute_result"
    }
   ],
   "source": [
    "y_true"
   ]
  },
  {
   "cell_type": "code",
   "execution_count": 28,
   "metadata": {},
   "outputs": [
    {
     "data": {
      "text/plain": [
       "array([[ 0.],\n",
       "       [ 0.],\n",
       "       [ 0.],\n",
       "       ..., \n",
       "       [ 0.],\n",
       "       [ 0.],\n",
       "       [ 0.]])"
      ]
     },
     "execution_count": 28,
     "metadata": {},
     "output_type": "execute_result"
    }
   ],
   "source": [
    "y_pred = line(X)\n",
    "y_pred"
   ]
  },
  {
   "cell_type": "code",
   "execution_count": 29,
   "metadata": {},
   "outputs": [
    {
     "data": {
      "text/plain": [
       "27093.837574561639"
      ]
     },
     "execution_count": 29,
     "metadata": {},
     "output_type": "execute_result"
    }
   ],
   "source": [
    "mean_squared_error(y_true, y_pred)"
   ]
  },
  {
   "cell_type": "markdown",
   "metadata": {
    "collapsed": true
   },
   "source": [
    "Changing the values of the parameters b and w to see plot & cost changes"
   ]
  },
  {
   "cell_type": "code",
   "execution_count": 34,
   "metadata": {},
   "outputs": [
    {
     "data": {
      "image/png": "[encoded data removed]",
      "text/plain": [
       "<matplotlib.figure.Figure at 0xdf001902b0>"
      ]
     },
     "metadata": {},
     "output_type": "display_data"
    }
   ],
   "source": [
    "plt.figure(figsize=(10, 5))\n",
    "\n",
    "# to draw 2 plots in the same figure\n",
    "# first plot, data and a few lines from -100 to +150\n",
    "ax1 = plt.subplot(121)\n",
    "df.plot(kind='scatter',\n",
    "        x='Height',\n",
    "        y='Weight',\n",
    "        title='Weight and Height in adults', ax=ax1)\n",
    "\n",
    "# let's explore the cost function for a few values of b between -100 and +150\n",
    "bbs = np.array([-100, -50, 0, 50, 100, 150])\n",
    "mses = []  # we will append the values of the cost here, for each line\n",
    "for b in bbs:\n",
    "    y_pred = line(X, w=2, b=b)\n",
    "    mse = mean_squared_error(y_true, y_pred)\n",
    "    mses.append(mse)\n",
    "    plt.plot(X, y_pred)\n"
   ]
  },
  {
   "cell_type": "code",
   "execution_count": 32,
   "metadata": {},
   "outputs": [
    {
     "data": {
      "text/plain": [
       "Text(0.5,0,'b')"
      ]
     },
     "execution_count": 32,
     "metadata": {},
     "output_type": "execute_result"
    },
    {
     "data": {
      "image/png": "[encoded data removed]",
      "text/plain": [
       "<matplotlib.figure.Figure at 0xdf5e138cc0>"
      ]
     },
     "metadata": {},
     "output_type": "display_data"
    }
   ],
   "source": [
    "# second plot: Cost function\n",
    "#from -100 to +150\n",
    "ax2 = plt.subplot(122)\n",
    "plt.plot(bbs, mses, 'o-')\n",
    "plt.title('Cost as a function of b')\n",
    "plt.xlabel('b')"
   ]
  },
  {
   "cell_type": "markdown",
   "metadata": {},
   "source": [
    "LINEAR REGRESSION WITH KERAS"
   ]
  },
  {
   "cell_type": "code",
   "execution_count": 36,
   "metadata": {},
   "outputs": [
    {
     "name": "stderr",
     "output_type": "stream",
     "text": [
      "Using TensorFlow backend.\n"
     ]
    }
   ],
   "source": [
    "from keras.models import Sequential\n",
    "from keras.layers import Dense\n",
    "from keras.optimizers import Adam, SGD"
   ]
  },
  {
   "cell_type": "code",
   "execution_count": 37,
   "metadata": {
    "collapsed": true
   },
   "outputs": [],
   "source": [
    "model = Sequential()\n",
    "#outpu values= 1, input = 1\n",
    "model.add(Dense(1,input_shape=(1,)))"
   ]
  },
  {
   "cell_type": "code",
   "execution_count": 38,
   "metadata": {},
   "outputs": [
    {
     "name": "stdout",
     "output_type": "stream",
     "text": [
      "_________________________________________________________________\n",
      "Layer (type)                 Output Shape              Param #   \n",
      "=================================================================\n",
      "dense_1 (Dense)              (None, 1)                 2         \n",
      "=================================================================\n",
      "Total params: 2\n",
      "Trainable params: 2\n",
      "Non-trainable params: 0\n",
      "_________________________________________________________________\n"
     ]
    }
   ],
   "source": [
    "model.summary()"
   ]
  },
  {
   "cell_type": "code",
   "execution_count": 39,
   "metadata": {
    "collapsed": true
   },
   "outputs": [],
   "source": [
    "model.compile(Adam(lr=0.8),'mean_squared_error')"
   ]
  },
  {
   "cell_type": "code",
   "execution_count": 40,
   "metadata": {
    "collapsed": true
   },
   "outputs": [
    {
     "name": "stdout",
     "output_type": "stream",
     "text": [
      "Epoch 1/40\n",
      "10000/10000 [==============================] - 4s 435us/step - loss: 1048.23810s - los\n",
      "Epoch 2/40\n",
      "10000/10000 [==============================] - 2s 171us/step - loss: 549.0277\n",
      "Epoch 3/40\n",
      "10000/10000 [==============================] - 1s 134us/step - loss: 520.9706\n",
      "Epoch 4/40\n",
      "10000/10000 [==============================] - 1s 118us/step - loss: 471.5577\n",
      "Epoch 5/40\n",
      "10000/10000 [==============================] - 1s 108us/step - loss: 463.3811\n",
      "Epoch 6/40\n",
      "10000/10000 [==============================] - 1s 110us/step - loss: 398.9547\n",
      "Epoch 7/40\n",
      "10000/10000 [==============================] - 1s 108us/step - loss: 365.5791\n",
      "Epoch 8/40\n",
      "10000/10000 [==============================] - 1s 112us/step - loss: 351.5767\n",
      "Epoch 9/40\n",
      "10000/10000 [==============================] - 1s 102us/step - loss: 295.2139\n",
      "Epoch 10/40\n",
      "10000/10000 [==============================] - 1s 96us/step - loss: 278.6075\n",
      "Epoch 11/40\n",
      "10000/10000 [==============================] - 1s 62us/step - loss: 250.0238\n",
      "Epoch 12/40\n",
      "10000/10000 [==============================] - 1s 63us/step - loss: 237.7021\n",
      "Epoch 13/40\n",
      "10000/10000 [==============================] - 1s 71us/step - loss: 227.0769\n",
      "Epoch 14/40\n",
      "10000/10000 [==============================] - 1s 107us/step - loss: 226.0163\n",
      "Epoch 15/40\n",
      "10000/10000 [==============================] - 1s 107us/step - loss: 212.0093\n",
      "Epoch 16/40\n",
      "10000/10000 [==============================] - 1s 115us/step - loss: 193.3802\n",
      "Epoch 17/40\n",
      "10000/10000 [==============================] - 1s 117us/step - loss: 195.8896\n",
      "Epoch 18/40\n",
      "10000/10000 [==============================] - 1s 114us/step - loss: 187.4872\n",
      "Epoch 19/40\n",
      "10000/10000 [==============================] - 1s 111us/step - loss: 183.9073\n",
      "Epoch 20/40\n",
      "10000/10000 [==============================] - 1s 115us/step - loss: 176.0867\n",
      "Epoch 21/40\n",
      "10000/10000 [==============================] - 1s 105us/step - loss: 191.8589\n",
      "Epoch 22/40\n",
      "10000/10000 [==============================] - 1s 109us/step - loss: 185.4448\n",
      "Epoch 23/40\n",
      "10000/10000 [==============================] - 1s 110us/step - loss: 176.9873\n",
      "Epoch 24/40\n",
      "10000/10000 [==============================] - 1s 111us/step - loss: 179.6541\n",
      "Epoch 25/40\n",
      "10000/10000 [==============================] - 1s 111us/step - loss: 175.4462\n",
      "Epoch 26/40\n",
      "10000/10000 [==============================] - 1s 114us/step - loss: 186.5006\n",
      "Epoch 27/40\n",
      "10000/10000 [==============================] - 2s 208us/step - loss: 183.0271\n",
      "Epoch 28/40\n",
      "10000/10000 [==============================] - 2s 193us/step - loss: 184.9108\n",
      "Epoch 29/40\n",
      "10000/10000 [==============================] - 1s 141us/step - loss: 193.1651\n",
      "Epoch 30/40\n",
      "10000/10000 [==============================] - 1s 122us/step - loss: 174.4952 0s - loss: 174.859\n",
      "Epoch 31/40\n",
      "10000/10000 [==============================] - 1s 106us/step - loss: 170.4438\n",
      "Epoch 32/40\n",
      "10000/10000 [==============================] - 1s 102us/step - loss: 185.5710\n",
      "Epoch 33/40\n",
      "10000/10000 [==============================] - 1s 107us/step - loss: 174.0889\n",
      "Epoch 34/40\n",
      "10000/10000 [==============================] - 1s 95us/step - loss: 189.8198: 0s - loss: \n",
      "Epoch 35/40\n",
      "10000/10000 [==============================] - 1s 96us/step - loss: 174.9693\n",
      "Epoch 36/40\n",
      "10000/10000 [==============================] - 1s 87us/step - loss: 177.6917\n",
      "Epoch 37/40\n",
      "10000/10000 [==============================] - 1s 84us/step - loss: 187.5735\n",
      "Epoch 38/40\n",
      "10000/10000 [==============================] - 1s 81us/step - loss: 169.2717\n",
      "Epoch 39/40\n",
      "10000/10000 [==============================] - 1s 74us/step - loss: 175.8712\n",
      "Epoch 40/40\n",
      "10000/10000 [==============================] - 1s 71us/step - loss: 205.7521\n"
     ]
    },
    {
     "data": {
      "text/plain": [
       "<keras.callbacks.History at 0xdf03c76be0>"
      ]
     },
     "execution_count": 40,
     "metadata": {},
     "output_type": "execute_result"
    }
   ],
   "source": [
    "# tries 40 times with diff values of w &b that gives low cost\n",
    "model.fit(X,y_true, epochs =40)"
   ]
  },
  {
   "cell_type": "code",
   "execution_count": 41,
   "metadata": {
    "collapsed": true
   },
   "outputs": [],
   "source": [
    "y_pred = model.predict(X)"
   ]
  },
  {
   "cell_type": "code",
   "execution_count": 42,
   "metadata": {},
   "outputs": [
    {
     "data": {
      "text/plain": [
       "[<matplotlib.lines.Line2D at 0xdf04f144e0>]"
      ]
     },
     "execution_count": 42,
     "metadata": {},
     "output_type": "execute_result"
    },
    {
     "data": {
      "image/png": "[encoded data removed]",
      "text/plain": [
       "<matplotlib.figure.Figure at 0xdf03f315c0>"
      ]
     },
     "metadata": {},
     "output_type": "display_data"
    }
   ],
   "source": [
    "df.plot(kind='scatter',\n",
    "        x='Height',\n",
    "        y='Weight',\n",
    "        title='Weight and Height in adults')\n",
    "plt.plot(X,y_pred,color= 'red')"
   ]
  },
  {
   "cell_type": "code",
   "execution_count": 43,
   "metadata": {
    "collapsed": true
   },
   "outputs": [],
   "source": [
    "#get values of w,b\n",
    "W, B = model.get_weights()"
   ]
  },
  {
   "cell_type": "code",
   "execution_count": 44,
   "metadata": {},
   "outputs": [
    {
     "data": {
      "text/plain": [
       "array([[ 7.71332216]], dtype=float32)"
      ]
     },
     "execution_count": 44,
     "metadata": {},
     "output_type": "execute_result"
    }
   ],
   "source": [
    "W"
   ]
  },
  {
   "cell_type": "code",
   "execution_count": 45,
   "metadata": {},
   "outputs": [
    {
     "data": {
      "text/plain": [
       "array([-348.12667847], dtype=float32)"
      ]
     },
     "execution_count": 45,
     "metadata": {},
     "output_type": "execute_result"
    }
   ],
   "source": [
    "B"
   ]
  },
  {
   "cell_type": "markdown",
   "metadata": {},
   "source": [
    "EVALUATING MODEL PERFORMANCE"
   ]
  },
  {
   "cell_type": "markdown",
   "metadata": {},
   "source": [
    "establish a baseline:\n",
    "* know score of simplest model\n",
    "* comparing our score with simplest model score"
   ]
  },
  {
   "cell_type": "markdown",
   "metadata": {},
   "source": [
    "r square = sum of sq of residual \n",
    "* r2 = 1 : good score\n",
    "* r2 < 1 : worst score\n",
    "* r2 <= 0 : worse than baseline"
   ]
  },
  {
   "cell_type": "code",
   "execution_count": 46,
   "metadata": {
    "collapsed": true
   },
   "outputs": [],
   "source": [
    "from sklearn.model_selection import train_test_split"
   ]
  },
  {
   "cell_type": "code",
   "execution_count": 47,
   "metadata": {
    "collapsed": true
   },
   "outputs": [],
   "source": [
    "X_train,X_test,y_train,y_test = train_test_split(X,y_true,test_size=0.2)"
   ]
  },
  {
   "cell_type": "code",
   "execution_count": 48,
   "metadata": {},
   "outputs": [
    {
     "data": {
      "text/plain": [
       "8000"
      ]
     },
     "execution_count": 48,
     "metadata": {},
     "output_type": "execute_result"
    }
   ],
   "source": [
    "len(X_train)"
   ]
  },
  {
   "cell_type": "code",
   "execution_count": 49,
   "metadata": {},
   "outputs": [
    {
     "data": {
      "text/plain": [
       "2000"
      ]
     },
     "execution_count": 49,
     "metadata": {},
     "output_type": "execute_result"
    }
   ],
   "source": [
    "len(X_test)"
   ]
  },
  {
   "cell_type": "code",
   "execution_count": null,
   "metadata": {
    "collapsed": true
   },
   "outputs": [],
   "source": []
  }
 ],
 "metadata": {
  "kernelspec": {
   "display_name": "Python [default]",
   "language": "python",
   "name": "python3"
  },
  "language_info": {
   "codemirror_mode": {
    "name": "ipython",
    "version": 3
   },
   "file_extension": ".py",
   "mimetype": "text/x-python",
   "name": "python",
   "nbconvert_exporter": "python",
   "pygments_lexer": "ipython3",
   "version": "3.6.3"
  }
 },
 "nbformat": 4,
 "nbformat_minor": 2
}
